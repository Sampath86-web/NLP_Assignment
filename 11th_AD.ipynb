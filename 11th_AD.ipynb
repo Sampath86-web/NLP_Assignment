{
  "nbformat": 4,
  "nbformat_minor": 0,
  "metadata": {
    "colab": {
      "provenance": []
    },
    "kernelspec": {
      "name": "python3",
      "display_name": "Python 3"
    },
    "language_info": {
      "name": "python"
    }
  },
  "cells": [
    {
      "cell_type": "code",
      "execution_count": 3,
      "metadata": {
        "id": "hjBOkLLEWa4v"
      },
      "outputs": [],
      "source": [
        "import google.generativeai as genai\n",
        "from google.colab import userdata\n",
        "\n",
        "GOOGLE_API_KEY = userdata.get('Google')\n",
        "genai.configure(api_key=GOOGLE_API_KEY)"
      ]
    },
    {
      "cell_type": "code",
      "source": [
        "import pathlib\n",
        "import textwrap\n",
        "\n",
        "from IPython.display import display, Markdown\n",
        "def to_Markdown(text):\n",
        "  text = text.replace('.', '  *')\n",
        "  return Markdown(textwrap.indent(text, '> ', predicate=lambda _: True ))"
      ],
      "metadata": {
        "id": "uWQeuHOdYUfw"
      },
      "execution_count": 2,
      "outputs": []
    },
    {
      "cell_type": "code",
      "source": [
        "import PIL.Image\n",
        "img = PIL.Image.open('image1.jpg')\n",
        "img\n",
        "model = genai.GenerativeModel('gemini-1.5-flash')\n",
        "response = model.generate_content([\"Write a short, engaging blog post based on this picture.It should include a description of the meal in the photo and talk about my journey meal prepping.\",img],\n",
        "stream=True)\n",
        "response.resolve()"
      ],
      "metadata": {
        "id": "0wI8KXmMZAc5"
      },
      "execution_count": 4,
      "outputs": []
    },
    {
      "source": [
        "to_Markdown(response.text)"
      ],
      "cell_type": "code",
      "metadata": {
        "colab": {
          "base_uri": "https://localhost:8080/",
          "height": 405
        },
        "id": "uYp63n76ch7c",
        "outputId": "11f1375a-f6c8-41af-9e97-cd70e741ca6d"
      },
      "execution_count": 7,
      "outputs": [
        {
          "output_type": "execute_result",
          "data": {
            "text/plain": [
              "<IPython.core.display.Markdown object>"
            ],
            "text/markdown": "> ## My Meal Prep Journey: From Chaos to Calm (and Delicious!)\n> \n> Let's be honest, weekday dinners can be a stressful whirlwind  *  Between work, errands, and everything else life throws our way, cooking a healthy, balanced meal often falls to the bottom of the priority list  * That’s why I finally dove headfirst into the world of meal prepping!\n> \n> And you know what? It's been a game-changer  *\n> \n> The picture shows the fruits (or should I say, *vegetables*?) of my labor: two perfectly portioned containers of deliciousness  *  Each one is filled with fluffy white rice, tender pieces of teriyaki chicken, vibrant orange and red bell peppers, and a healthy dose of broccoli  * It’s a balanced and satisfying meal that's ready in minutes – no more frantic searches for takeout menus!\n> \n> My journey with meal prepping wasn't instant success, though  * Initially, I felt overwhelmed  *  Where to begin? How much food to make?  The prospect of spending a whole Sunday prepping felt daunting  * But I started small  *  I began with just one recipe, focusing on a simple, protein-packed meal I knew I'd actually enjoy eating several times  *\n> \n> Gradually, I’ve built up my repertoire, mastering the art of batch cooking and finding clever ways to incorporate different vegetables and proteins  *  I now see meal prepping not just as a chore, but as a mindful act of self-care  * It allows me to prioritize my health and well-being, saving both time and money  *\n> \n> The best part? No more rushed, unhealthy dinners!  Now, I can enjoy a delicious, nutritious meal without the added stress of last-minute cooking  *  This simple teriyaki chicken and veggie bowl is just one example of the many delicious and healthy options meal prepping opens up  *  Ready to join me on this journey to a healthier, happier dinner routine? Let me know in the comments!\n"
          },
          "metadata": {},
          "execution_count": 7
        }
      ]
    },
    {
      "cell_type": "code",
      "source": [
        "response = model.generate_content([\"Generate an accurate caption for this image.\", img])\n",
        "print(response.text)"
      ],
      "metadata": {
        "colab": {
          "base_uri": "https://localhost:8080/",
          "height": 401
        },
        "id": "cZaC4QJMcblT",
        "outputId": "6954bcef-7d50-47a8-c841-2d3608f70a7f"
      },
      "execution_count": 8,
      "outputs": [
        {
          "output_type": "stream",
          "name": "stdout",
          "text": [
            "Here are a few caption options for the image:\n",
            "\n",
            "**Option 1 (Simple & Descriptive):**\n",
            "\n",
            "> Healthy and delicious meal prep!  Chicken and broccoli with rice.\n",
            "\n",
            "**Option 2 (Slightly more engaging):**\n",
            "\n",
            "> Lunch goals!  These easy-to-make teriyaki chicken and veggie bowls are perfect for a quick and healthy lunch or dinner.\n",
            "\n",
            "**Option 3 (Focus on convenience):**\n",
            "\n",
            "> Meal prepping made easy.  Grab-and-go lunches that are both nutritious and satisfying.\n",
            "\n",
            "\n",
            "**Option 4 (More detailed):**\n",
            "\n",
            "> Teriyaki chicken and vegetable rice bowls: a delicious and nutritious meal prepped for the week.  Featuring chicken, broccoli, carrots, and rice.\n",
            "\n",
            "Choose the caption that best suits your intended audience and platform.\n",
            "\n"
          ]
        }
      ]
    },
    {
      "cell_type": "code",
      "source": [
        "from PIL import Image\n",
        "image_path = \"girl.jpg\"\n",
        "image = Image.open(image_path)\n",
        "response = model.generate_content([\"Describe this image in detail.\", image])\n",
        "print(response.text)"
      ],
      "metadata": {
        "colab": {
          "base_uri": "https://localhost:8080/",
          "height": 263
        },
        "id": "9fDcR6_5eRMI",
        "outputId": "1d8399db-ffff-4f0d-f1c3-235986c2d1be"
      },
      "execution_count": 9,
      "outputs": [
        {
          "output_type": "stream",
          "name": "stdout",
          "text": [
            "Here's a description of the image:\n",
            "\n",
            "Close-up view of a woman with shoulder-length, curly brown hair. \n",
            "\n",
            "\n",
            "She is smiling and gesturing with her right index finger, as if pointing to something off-camera. Her expression is friendly and inviting. \n",
            "\n",
            "\n",
            "She is wearing a teal or turquoise three-quarter sleeve tunic or kurta. The tunic has a subtle, repeating gold pattern on it. The neckline is a simple, modest V-neck. Her arms are folded across her chest, with one arm slightly extended to point. \n",
            "\n",
            "\n",
            "The background is a plain, bright white, which makes the woman and her clothing stand out clearly. The overall lighting is soft and even. The image appears to be a professional headshot or portrait.\n",
            "\n"
          ]
        }
      ]
    },
    {
      "cell_type": "code",
      "source": [
        "response = model.generate_content([\"What emotions can you detect in this image? \", image])\n",
        "print(response.text)"
      ],
      "metadata": {
        "colab": {
          "base_uri": "https://localhost:8080/",
          "height": 176
        },
        "id": "l7wMLmsIgwk2",
        "outputId": "85f6b238-c4a2-4095-e610-fd82b61678d0"
      },
      "execution_count": 10,
      "outputs": [
        {
          "output_type": "stream",
          "name": "stdout",
          "text": [
            "The woman in the image appears to be expressing:\n",
            "\n",
            "* **Happiness/Contentment:** Her smile is genuine and warm, suggesting a positive emotional state.\n",
            "* **Helpfulness/Informative:**  Her pointing gesture indicates she's trying to direct attention or provide information.  This suggests a willingness to assist or share something.\n",
            "* **Confidence/Assurance:** Her posture and direct gaze convey a sense of self-assurance.\n",
            "\n",
            "It's important to note that emotion detection in images is not always definitive, and these interpretations are based on visual cues.  There might be other subtle emotions present that are harder to detect from a static image.\n",
            "\n"
          ]
        }
      ]
    },
    {
      "cell_type": "code",
      "source": [],
      "metadata": {
        "id": "ubOkgnUqiB8C"
      },
      "execution_count": null,
      "outputs": []
    }
  ]
}