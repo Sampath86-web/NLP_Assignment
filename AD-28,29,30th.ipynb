{
 "cells": [
  {
   "cell_type": "code",
   "execution_count": 2,
   "id": "1e498dcb",
   "metadata": {},
   "outputs": [
    {
     "name": "stdout",
     "output_type": "stream",
     "text": [
      "              2024  45th  coming  donald  election  president  putin  russia  \\\n",
      "doc_trump        0     1       0       1         0          1      0       0   \n",
      "doc_election     1     0       1       0         1          0      0       0   \n",
      "doc_putin        0     0       0       0         0          1      1       1   \n",
      "\n",
      "              soon  states  trump  united  vladimir  years  \n",
      "doc_trump        0       1      1       1         0      0  \n",
      "doc_election     1       0      0       0         0      0  \n",
      "doc_putin        0       0      0       0         1      1  \n"
     ]
    }
   ],
   "source": [
    "nltk.download('popular', quiet=True) # for downloading packages\n",
    "\n",
    "nltk.download('punkt') # first-time use only\n",
    "\n",
    "nltk.download('wordnet') # first-time use only\n",
    "\n",
    "\n",
    "\n",
    "\n",
    "from sklearn.feature_extraction.text import CountVectorizer\n",
    "import pandas as pd\n",
    "\n",
    "# Define the documents\n",
    "documents = [\n",
    "    \"Donald Trump is the 45th president of the United States.\",\n",
    "    \"The 2024 U.S. election is coming up soon.\",\n",
    "    \"Vladimir Putin has been president of Russia for many years.\"\n",
    "]\n",
    "\n",
    "# Create the Document Term Matrix\n",
    "count_vect = CountVectorizer(stop_words='english')  # you can keep stop_words='english' for common word exclusion\n",
    "sparse_matrix = count_vect.fit_transform(documents)\n",
    "\n",
    "# OPTIONAL: Convert Sparse Matrix to Pandas DataFrame to view word frequencies\n",
    "doc_term_matrix = sparse_matrix.todense()\n",
    "df = pd.DataFrame(doc_term_matrix,\n",
    "                  columns=count_vect.get_feature_names_out(),\n",
    "                  index=['doc_trump', 'doc_election', 'doc_putin'])\n",
    "print(df)\n"
   ]
  },
  {
   "cell_type": "code",
   "execution_count": null,
   "id": "7b7192ba",
   "metadata": {},
   "outputs": [],
   "source": []
  },
  {
   "cell_type": "code",
   "execution_count": 4,
   "id": "68e4bbc8",
   "metadata": {},
   "outputs": [
    {
     "name": "stdout",
     "output_type": "stream",
     "text": [
      "              career  claimed  earlier  election  elections  friend  friends  \\\n",
      "doc_trump          0        0        0         1          0       0        2   \n",
      "doc_election       0        1        0         2          0       1        0   \n",
      "doc_putin          1        0        1         0          1       0        0   \n",
      "\n",
      "              interference  lost  minister  ...  putin  republican  russia  \\\n",
      "doc_trump                0     1         0  ...      1           1       0   \n",
      "doc_election             1     0         0  ...      2           0       0   \n",
      "doc_putin                0     0         1  ...      2           0       1   \n",
      "\n",
      "              says  served  support  trump  vladimir  winning  witchhunt  \n",
      "doc_trump        0       0        1      2         0        1          0  \n",
      "doc_election     2       0        0      1         0        0          1  \n",
      "doc_putin        0       1        0      0         1        0          0  \n",
      "\n",
      "[3 rows x 27 columns]\n"
     ]
    }
   ],
   "source": [
    "from sklearn.feature_extraction.text import CountVectorizer\n",
    "import pandas as pd\n",
    "\n",
    "# Define the documents\n",
    "doc_trump = \"Mr. Trump became president after winning the political election. Though he lost the support of some republican friends, Trump is friends with President Putin\"\n",
    "doc_election = \"President Trump says Putin had no political interference is the election outcome. He says it was a witchhunt by political parties. He claimed President Putin is a friend who had nothing to do with the election\"\n",
    "doc_putin = \"Post elections, Vladimir Putin became President of Russia. President Putin had served as the Prime Minister earlier in his political career\"\n",
    "\n",
    "documents = [doc_trump, doc_election, doc_putin]\n",
    "\n",
    "# Create the Document Term Matrix\n",
    "count_vect = CountVectorizer(stop_words='english')  # Exclude common stop words\n",
    "sparse_matrix = count_vect.fit_transform(documents)\n",
    "\n",
    "# OPTIONAL: Convert Sparse Matrix to Pandas DataFrame to view word frequencies\n",
    "doc_term_matrix = sparse_matrix.todense()\n",
    "df = pd.DataFrame(doc_term_matrix,\n",
    "                  columns=count_vect.get_feature_names_out(),\n",
    "                  index=['doc_trump', 'doc_election', 'doc_putin'])\n",
    "\n",
    "# Display the resulting DataFrame\n",
    "print(df)\n",
    "\n"
   ]
  },
  {
   "cell_type": "code",
   "execution_count": 7,
   "id": "7ef20266",
   "metadata": {},
   "outputs": [
    {
     "name": "stdout",
     "output_type": "stream",
     "text": [
      "[[1.         0.51639778 0.36893239]\n",
      " [0.51639778 1.         0.45360921]\n",
      " [0.36893239 0.45360921 1.        ]]\n"
     ]
    }
   ],
   "source": [
    "# Compute Cosine Similarity\n",
    "\n",
    "from sklearn.metrics.pairwise import cosine_similarity\n",
    "\n",
    "print(cosine_similarity(df, df))\n",
    "\n",
    "\n",
    "\n",
    "\n"
   ]
  },
  {
   "cell_type": "code",
   "execution_count": 8,
   "id": "f3071a5b",
   "metadata": {},
   "outputs": [
    {
     "data": {
      "image/png": "[encoded data removed]",
      "text/plain": [
       "<Figure size 640x480 with 1 Axes>"
      ]
     },
     "metadata": {},
     "output_type": "display_data"
    }
   ],
   "source": [
    "import numpy as np\n",
    "\n",
    "import matplotlib.pyplot as plt\n",
    "\n",
    "# consider two vectors A and B in 2-D\n",
    "\n",
    "A = np.array([7,3])\n",
    "\n",
    "B = np.array([3,7])\n",
    "\n",
    "ax = plt.axes()\n",
    "\n",
    "ax.arrow(0.0, 0.0, A[0], A[1], head_width=0.4, head_length=0.5)\n",
    "\n",
    "plt.annotate(f\"A({A[0]},{A[1]})\", xy=(A[0], A[1]),xytext=(A[0]+0.5, A[1]))\n",
    "\n",
    "ax.arrow(0.0, 0.0, B[0], B[1], head_width=0.4, head_length=0.5)\n",
    "\n",
    "plt.annotate(f\"B({B[0]},{B[1]})\", xy=(B[0], B[1]),xytext=(B[0]+0.5, B[1]))\n",
    "\n",
    "plt.xlim(0,10)\n",
    "\n",
    "plt.ylim(0,10)\n",
    "\n",
    "plt.show()\n",
    "\n",
    "plt.close()\n",
    "\n",
    "\n",
    "\n",
    "\n"
   ]
  },
  {
   "cell_type": "code",
   "execution_count": 9,
   "id": "08dbc74a",
   "metadata": {},
   "outputs": [
    {
     "name": "stdout",
     "output_type": "stream",
     "text": [
      "Cosine Similarity between A and B:0.7241379310344827\n",
      "Cosine Distance between A and B:0.27586206896551735\n"
     ]
    }
   ],
   "source": [
    "# cosine similarity between A and B\n",
    "\n",
    "cos_sim=np.dot(A,B)/(np.linalg.norm(A)*np.linalg.norm(B))\n",
    "\n",
    "print (f\"Cosine Similarity between A and B:{cos_sim}\")\n",
    "\n",
    "print (f\"Cosine Distance between A and B:{1-cos_sim}\")\n",
    "\n",
    "\n",
    "\n",
    "\n"
   ]
  },
  {
   "cell_type": "code",
   "execution_count": 1,
   "id": "7fbf355b",
   "metadata": {},
   "outputs": [
    {
     "name": "stdout",
     "output_type": "stream",
     "text": [
      "AnB =  {1, 2}\n",
      "AUB =  {1, 2, 3, 4, 5, 6, 8, 9}\n",
      "J(A,B) =  0.25\n"
     ]
    }
   ],
   "source": [
    "A = {1,2,3,4,6}\n",
    "B = {1,2,5,8,9}\n",
    "# Intersaction and Union of two sets can also be done using & and | operators\n",
    "C = A.intersection(B)\n",
    "D = A.union(B)\n",
    "print('AnB = ', C)\n",
    "print('AUB = ', D)\n",
    "print('J(A,B) = ', float(len(C))/float(len(D)))"
   ]
  },
  {
   "cell_type": "code",
   "execution_count": 4,
   "id": "1438db73",
   "metadata": {},
   "outputs": [
    {
     "name": "stdout",
     "output_type": "stream",
     "text": [
      "Jaccard Similarity: 0.375\n"
     ]
    }
   ],
   "source": [
    "def jaccard_similarity(set1, set2):\n",
    "    # intersection of two sets\n",
    "    intersection = len(set1.intersection(set2))\n",
    "    # Unions of two sets\n",
    "    union = len(set1.union(set2))     \n",
    "    return intersection / union\n",
    "set_a = {\"Language\", \"for\", \"Computer\", \"NLP\", \"Science\"}\n",
    "set_b = {\"NLP\", \"for\", \"Language\", \"Data\", 'ML', \"AI\"}\n",
    "similarity = jaccard_similarity(set_a, set_b)\n",
    "print(\"Jaccard Similarity:\", similarity)"
   ]
  },
  {
   "cell_type": "code",
   "execution_count": 1,
   "id": "bb6b9e19",
   "metadata": {},
   "outputs": [],
   "source": [
    "import numpy as np\n",
    "from sklearn.feature_extraction.text import TfidfVectorizer\n",
    "from sklearn.metrics.pairwise import cosine_similarity"
   ]
  },
  {
   "cell_type": "code",
   "execution_count": 2,
   "id": "e02142af",
   "metadata": {},
   "outputs": [],
   "source": [
    "# Step 1: Define predefined chatbot responses\n",
    "responses = [\n",
    "    \"You can return an item within 7 days of purchase.\",\n",
    "    \"Our return policy allows you to return items that are unopened and in their original condition.\",\n",
    "    \"We offer free shipping on orders over $50.\",\n",
    "    \"To track your order, you can visit the 'Order Tracking' page and enter your order number.\",\n",
    "    \"Our customer support team is available from 9 AM to 6 PM, Monday through Friday.\"\n",
    "]"
   ]
  },
  {
   "cell_type": "code",
   "execution_count": 3,
   "id": "53caf751",
   "metadata": {},
   "outputs": [],
   "source": [
    "# Step 2: Sample user input (this would come from a user in a real chatbot)\n",
    "user_input = \"How can I track my order?\""
   ]
  },
  {
   "cell_type": "code",
   "execution_count": 4,
   "id": "b95141e4",
   "metadata": {},
   "outputs": [],
   "source": [
    "# Step 3: Preprocess the text using TF-IDF Vectorization\n",
    "vectorizer = TfidfVectorizer(stop_words='english')  # Removing stopwords like 'the', 'is', etc.\n",
    "all_texts = responses + [user_input]  # Combine responses with the user input for vectorization"
   ]
  },
  {
   "cell_type": "code",
   "execution_count": 5,
   "id": "1d896ef1",
   "metadata": {},
   "outputs": [],
   "source": [
    "# Step 4: Convert the text to TF-IDF vectors\n",
    "tfidf_matrix = vectorizer.fit_transform(all_texts)"
   ]
  },
  {
   "cell_type": "code",
   "execution_count": 6,
   "id": "6a22f06a",
   "metadata": {},
   "outputs": [],
   "source": [
    "# Step 5: Compute cosine similarity between the user input and all responses\n",
    "user_vector = tfidf_matrix[-1]  # The user input is the last text in the matrix\n",
    "response_vectors = tfidf_matrix[:-1]  # All predefined responses\n",
    "# Calculate cosine similarities\n",
    "cosine_similarities = cosine_similarity(user_vector, response_vectors)"
   ]
  },
  {
   "cell_type": "code",
   "execution_count": 7,
   "id": "a2124a84",
   "metadata": {},
   "outputs": [],
   "source": [
    "# Step 6: Find the most similar response\n",
    "most_similar_idx = np.argmax(cosine_similarities)  # Find the index of the most similar response"
   ]
  },
  {
   "cell_type": "code",
   "execution_count": 8,
   "id": "e7a21070",
   "metadata": {},
   "outputs": [
    {
     "name": "stdout",
     "output_type": "stream",
     "text": [
      "User Query: How can I track my order?\n",
      "Most relevant response: To track your order, you can visit the 'Order Tracking' page and enter your order number.\n"
     ]
    }
   ],
   "source": [
    "# Step 7: Display the most relevant response\n",
    "print(f\"User Query: {user_input}\")\n",
    "print(f\"Most relevant response: {responses[most_similar_idx]}\""
   ]
  },
  {
   "cell_type": "code",
   "execution_count": 1,
   "id": "6e96c1bc",
   "metadata": {},
   "outputs": [],
   "source": [
    "import io\n",
    "\n",
    "import random\n",
    "\n",
    "import string # to process standard python strings\n",
    "\n",
    "import warnings\n",
    "\n",
    "warnings.filterwarnings('ignore')\n",
    "\n",
    "import numpy as np\n",
    "\n",
    "from sklearn.feature_extraction.text import TfidfVectorizer # convert a collection of raw documents to a matrix of TF-IDF features\n",
    "\n",
    "from sklearn.metrics.pairwise import cosine_similarity\n",
    "\n",
    "from nltk.stem import WordNetLemmatizer\n",
    "\n",
    "\n",
    "\n",
    "\n"
   ]
  },
  {
   "cell_type": "code",
   "execution_count": 2,
   "id": "1e430007",
   "metadata": {},
   "outputs": [
    {
     "name": "stdout",
     "output_type": "stream",
     "text": [
      "Requirement already satisfied: nltk in c:\\users\\ptabi\\anaconda3\\lib\\site-packages (3.7)\n",
      "Requirement already satisfied: click in c:\\users\\ptabi\\anaconda3\\lib\\site-packages (from nltk) (8.0.4)\n",
      "Requirement already satisfied: joblib in c:\\users\\ptabi\\anaconda3\\lib\\site-packages (from nltk) (1.1.0)\n",
      "Requirement already satisfied: tqdm in c:\\users\\ptabi\\anaconda3\\lib\\site-packages (from nltk) (4.64.1)\n",
      "Requirement already satisfied: regex>=2021.8.3 in c:\\users\\ptabi\\anaconda3\\lib\\site-packages (from nltk) (2022.7.9)\n",
      "Requirement already satisfied: colorama in c:\\users\\ptabi\\anaconda3\\lib\\site-packages (from click->nltk) (0.4.6)\n"
     ]
    },
    {
     "name": "stderr",
     "output_type": "stream",
     "text": [
      "WARNING: Ignoring invalid distribution -umpy (c:\\users\\ptabi\\anaconda3\\lib\\site-packages)\n",
      "WARNING: Ignoring invalid distribution -umpy (c:\\users\\ptabi\\anaconda3\\lib\\site-packages)\n",
      "WARNING: Ignoring invalid distribution -umpy (c:\\users\\ptabi\\anaconda3\\lib\\site-packages)\n",
      "WARNING: Ignoring invalid distribution -umpy (c:\\users\\ptabi\\anaconda3\\lib\\site-packages)\n",
      "WARNING: Ignoring invalid distribution -umpy (c:\\users\\ptabi\\anaconda3\\lib\\site-packages)\n",
      "WARNING: Ignoring invalid distribution -umpy (c:\\users\\ptabi\\anaconda3\\lib\\site-packages)\n"
     ]
    }
   ],
   "source": [
    "# Install nltk (run this in your terminal or a Jupyter notebook cell)\n",
    "!pip install nltk\n",
    "\n",
    "# Import nltk\n",
    "import nltk"
   ]
  },
  {
   "cell_type": "code",
   "execution_count": null,
   "id": "a7910f80",
   "metadata": {},
   "outputs": [],
   "source": [
    "import nltk\n",
    "\n",
    "# Download necessary resources (only need to do this once)\n",
    "nltk.download('popular', quiet=True)  # Download popular resources\n",
    "nltk.download('punkt')                # For tokenization\n",
    "nltk.download('wordnet')              # For lemmatization and synonyms\n",
    "\n",
    "# Open the file in read mode, ignoring errors\n",
    "with open('input.txt', 'r', errors='ignore') as f:\n",
    "    raw = f.read()\n",
    "\n",
    "# Convert the text to lowercase\n",
    "raw = raw.lower()\n",
    "\n",
    "# Tokenize the text\n",
    "tokens = nltk.word_tokenize(raw)\n",
    "\n",
    "# Print the first few tokens\n",
    "print(tokens[:10])\n",
    "\n",
    "# Lemmatization (using WordNet)\n",
    "from nltk.corpus import wordnet as wn\n",
    "from nltk.stem import WordNetLemmatizer\n",
    "\n",
    "lemmatizer = WordNetLemmatizer()\n",
    "\n",
    "# Lemmatize the first 5 tokens\n",
    "lemmatized_tokens = [lemmatizer.lemmatize(token) for token in tokens[:5]]\n",
    "print(\"Lemmatized tokens:\", lemmatized_tokens)\n"
   ]
  },
  {
   "cell_type": "code",
   "execution_count": null,
   "id": "d297520f",
   "metadata": {},
   "outputs": [],
   "source": [
    "import nltk\n",
    "\n",
    "# Ensure necessary resources are downloaded\n",
    "nltk.download('punkt')  # For sentence and word tokenization\n",
    "nltk.download('stopwords')  # For stopword removal\n",
    "\n",
    "# Read the text file\n",
    "with open('input.txt', 'r', errors='ignore') as f:\n",
    "    raw = f.read()\n",
    "\n",
    "# Convert text to lowercase\n",
    "raw = raw.lower()\n",
    "\n",
    "# Tokenize the raw text into sentences and words\n",
    "sent_tokens = nltk.sent_tokenize(raw)  # Sentence tokenization\n",
    "word_tokens = nltk.word_tokenize(raw)  # Word tokenization\n",
    "\n",
    "# Print the first 2 sentences\n",
    "print(\"First 2 sentences:\")\n",
    "print(sent_tokens[:2])\n",
    "\n",
    "# Print the first 10 word tokens\n",
    "print(\"\\nFirst 10 word tokens:\")\n",
    "print(word_tokens[:10])\n",
    "\n",
    "# Remove punctuation and stopwords (optional step)\n",
    "from nltk.corpus import stopwords\n",
    "from string import punctuation\n",
    "\n",
    "# Get the set of stopwords in English\n",
    "stop_words = set(stopwords.words('english'))\n",
    "\n",
    "# Filter out stopwords and punctuation from word tokens\n",
    "filtered_words = [word for word in word_tokens if word not in stop_words and word not in punctuation]\n",
    "\n",
    "# Print the first 10 filtered words\n",
    "print(\"\\nFirst 10 filtered words (no stopwords or punctuation):\")\n",
    "print(filtered_words[:10])\n"
   ]
  },
  {
   "cell_type": "code",
   "execution_count": null,
   "id": "241e69d8",
   "metadata": {},
   "outputs": [],
   "source": [
    "import nltk\n",
    "import string\n",
    "\n",
    "# Ensure necessary NLTK resources are downloaded\n",
    "nltk.download('punkt')\n",
    "nltk.download('wordnet')\n",
    "\n",
    "# Initialize the WordNetLemmatizer\n",
    "lemmer = nltk.stem.WordNetLemmatizer()\n",
    "\n",
    "# Function to lemmatize tokens\n",
    "def LemTokens(tokens):\n",
    "    return [lemmer.lemmatize(token) for token in tokens]\n",
    "\n",
    "# Remove punctuation\n",
    "remove_punct_dict = dict((ord(punct), None) for punct in string.punctuation)\n",
    "\n",
    "# Function to normalize text (lowercase, remove punctuation, and lemmatize)\n",
    "def LemNormalize(text):\n",
    "    return LemTokens(nltk.word_tokenize(text.lower().translate(remove_punct_dict)))\n",
    "\n",
    "# Example text\n",
    "text = \"Running is fun, and I enjoy running fast!\"\n",
    "\n",
    "# Normalize the text (lowercase, remove punctuation, and lemmatize)\n",
    "normalized_tokens = LemNormalize(text)\n",
    "\n",
    "# Print the lemmatized tokens\n",
    "print(\"Normalized tokens:\", normalized_tokens)\n"
   ]
  },
  {
   "cell_type": "code",
   "execution_count": null,
   "id": "258b19af",
   "metadata": {},
   "outputs": [],
   "source": []
  }
 ],
 "metadata": {
  "kernelspec": {
   "display_name": "Python 3 (ipykernel)",
   "language": "python",
   "name": "python3"
  },
  "language_info": {
   "codemirror_mode": {
    "name": "ipython",
    "version": 3
   },
   "file_extension": ".py",
   "mimetype": "text/x-python",
   "name": "python",
   "nbconvert_exporter": "python",
   "pygments_lexer": "ipython3",
   "version": "3.9.13"
  }
 },
 "nbformat": 4,
 "nbformat_minor": 5
}
